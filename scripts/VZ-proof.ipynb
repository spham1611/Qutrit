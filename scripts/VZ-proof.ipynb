{
 "cells": [
  {
   "cell_type": "markdown",
   "id": "2145e75f",
   "metadata": {},
   "source": [
    "# Proof that VZ-gate works in SU(3)"
   ]
  },
  {
   "cell_type": "code",
   "execution_count": 2,
   "id": "c859f327",
   "metadata": {},
   "outputs": [],
   "source": [
    "from sympy import *\n",
    "from sympy.physics.quantum import *\n",
    "import numpy as np"
   ]
  },
  {
   "cell_type": "code",
   "execution_count": 3,
   "outputs": [
    {
     "data": {
      "text/plain": "<Figure size 640x480 with 1 Axes>",
      "image/png": "[encoded data removed]"
     },
     "metadata": {},
     "output_type": "display_data"
    }
   ],
   "source": [
    "import matplotlib.pyplot as plt\n",
    "\n",
    "# Data\n",
    "x = [1, 2, 3, 4, 5]\n",
    "y = [0.2, 0.5, 0.8, 0.6, 0.9]\n",
    "\n",
    "# Create the figure and axes\n",
    "fig, ax = plt.subplots()\n",
    "\n",
    "# Plot the line graph\n",
    "ax.plot(x, y, color='blue', marker='o', linestyle='-', linewidth=2)\n",
    "\n",
    "# Set labels and title\n",
    "ax.set_xlabel('X-axis')\n",
    "ax.set_ylabel('Y-axis')\n",
    "ax.set_title('Research Data')\n",
    "\n",
    "# Customize the appearance\n",
    "ax.grid(True)\n",
    "ax.spines['top'].set_visible(False)\n",
    "ax.spines['right'].set_visible(False)\n",
    "\n",
    "# Save the graph as an image file\n",
    "plt.savefig('research_graph.png', dpi=300)\n",
    "\n",
    "# Show the graph\n",
    "plt.show()"
   ],
   "metadata": {
    "collapsed": false
   }
  },
  {
   "cell_type": "code",
   "execution_count": 2,
   "id": "9eab1544",
   "metadata": {},
   "outputs": [],
   "source": [
    "Id2 = diag(1,1)\n",
    "Id3 = diag(1,1,1)\n",
    "\n",
    "theta = Symbol('theta')\n",
    "phi = Symbol('phi')"
   ]
  },
  {
   "cell_type": "markdown",
   "id": "f3f1deb7",
   "metadata": {},
   "source": [
    "Qubit case"
   ]
  },
  {
   "cell_type": "code",
   "execution_count": 3,
   "id": "dbc40e52",
   "metadata": {},
   "outputs": [],
   "source": [
    "sigma_x = Matrix([\n",
    "    [0, 1],\n",
    "    [1, 0]\n",
    "])\n",
    "\n",
    "sigma_y = Matrix([\n",
    "    [0, -I],\n",
    "    [I, 0]\n",
    "])\n",
    "\n",
    "sigma_z = Matrix([\n",
    "    [1, 0],\n",
    "    [0, -1]\n",
    "])"
   ]
  },
  {
   "cell_type": "code",
   "execution_count": 4,
   "id": "ddddd7ef",
   "metadata": {},
   "outputs": [
    {
     "data": {
      "text/plain": "Matrix([\n[   cos(theta/2), -I*sin(theta/2)],\n[-I*sin(theta/2),    cos(theta/2)]])",
      "text/latex": "$\\displaystyle \\left[\\begin{matrix}\\cos{\\left(\\frac{\\theta}{2} \\right)} & - i \\sin{\\left(\\frac{\\theta}{2} \\right)}\\\\- i \\sin{\\left(\\frac{\\theta}{2} \\right)} & \\cos{\\left(\\frac{\\theta}{2} \\right)}\\end{matrix}\\right]$"
     },
     "execution_count": 4,
     "metadata": {},
     "output_type": "execute_result"
    }
   ],
   "source": [
    "X2 = Id2*cos(theta/2) - I*sin(theta/2)*sigma_x\n",
    "\n",
    "X2"
   ]
  },
  {
   "cell_type": "code",
   "execution_count": 5,
   "id": "794470ae",
   "metadata": {},
   "outputs": [
    {
     "data": {
      "text/plain": "Matrix([\n[cos(theta/2), -sin(theta/2)],\n[sin(theta/2),  cos(theta/2)]])",
      "text/latex": "$\\displaystyle \\left[\\begin{matrix}\\cos{\\left(\\frac{\\theta}{2} \\right)} & - \\sin{\\left(\\frac{\\theta}{2} \\right)}\\\\\\sin{\\left(\\frac{\\theta}{2} \\right)} & \\cos{\\left(\\frac{\\theta}{2} \\right)}\\end{matrix}\\right]$"
     },
     "execution_count": 5,
     "metadata": {},
     "output_type": "execute_result"
    }
   ],
   "source": [
    "Y2 = Id2*cos(theta/2) - I*sin(theta/2)*sigma_y\n",
    "\n",
    "Y2"
   ]
  },
  {
   "cell_type": "code",
   "execution_count": 6,
   "id": "e3473610",
   "metadata": {},
   "outputs": [
    {
     "data": {
      "text/plain": "Matrix([\n[exp(-I*phi/2),            0],\n[            0, exp(I*phi/2)]])",
      "text/latex": "$\\displaystyle \\left[\\begin{matrix}e^{- \\frac{i \\phi}{2}} & 0\\\\0 & e^{\\frac{i \\phi}{2}}\\end{matrix}\\right]$"
     },
     "execution_count": 6,
     "metadata": {},
     "output_type": "execute_result"
    }
   ],
   "source": [
    "Z2 = Id2*cos(phi/2) - I*sin(phi/2)*sigma_z\n",
    "\n",
    "for i in range(4):\n",
    "    Z2[i] = simplify(Z2[i])\n",
    "\n",
    "Z2"
   ]
  },
  {
   "cell_type": "code",
   "execution_count": 7,
   "id": "ce94a8e6",
   "metadata": {},
   "outputs": [
    {
     "data": {
      "text/plain": "Matrix([\n[              cos(theta/2), -I*exp(-I*phi)*sin(theta/2)],\n[-I*exp(I*phi)*sin(theta/2),                cos(theta/2)]])",
      "text/latex": "$\\displaystyle \\left[\\begin{matrix}\\cos{\\left(\\frac{\\theta}{2} \\right)} & - i e^{- i \\phi} \\sin{\\left(\\frac{\\theta}{2} \\right)}\\\\- i e^{i \\phi} \\sin{\\left(\\frac{\\theta}{2} \\right)} & \\cos{\\left(\\frac{\\theta}{2} \\right)}\\end{matrix}\\right]$"
     },
     "execution_count": 7,
     "metadata": {},
     "output_type": "execute_result"
    }
   ],
   "source": [
    "M = cos(phi)*sigma_x + sin(phi)*sigma_y\n",
    "\n",
    "for i in range(4):\n",
    "    M[i] = simplify(M[i])\n",
    "\n",
    "U3 = Id2*cos(theta/2) - I*sin(theta/2)*M\n",
    "\n",
    "for i in range(4):\n",
    "    U3[i] = simplify(U3[i])\n",
    "\n",
    "U3"
   ]
  },
  {
   "cell_type": "code",
   "execution_count": 8,
   "id": "b9d22d3c",
   "metadata": {},
   "outputs": [],
   "source": [
    "def Z2f(phi):\n",
    "    return Matrix([\n",
    "        [exp(-I*phi/2), 0],\n",
    "        [0, exp(I*phi/2)]\n",
    "    ])\n",
    "\n",
    "def X2f(theta):\n",
    "    return Matrix([\n",
    "        [cos(theta/2), -I*sin(theta/2)],\n",
    "        [-I*sin(theta/2), cos(theta/2)]\n",
    "    ])"
   ]
  },
  {
   "cell_type": "code",
   "execution_count": 9,
   "id": "353b4373",
   "metadata": {},
   "outputs": [
    {
     "data": {
      "text/plain": "Matrix([\n[              cos(theta/2), -I*exp(-I*phi)*sin(theta/2)],\n[-I*exp(I*phi)*sin(theta/2),                cos(theta/2)]])",
      "text/latex": "$\\displaystyle \\left[\\begin{matrix}\\cos{\\left(\\frac{\\theta}{2} \\right)} & - i e^{- i \\phi} \\sin{\\left(\\frac{\\theta}{2} \\right)}\\\\- i e^{i \\phi} \\sin{\\left(\\frac{\\theta}{2} \\right)} & \\cos{\\left(\\frac{\\theta}{2} \\right)}\\end{matrix}\\right]$"
     },
     "execution_count": 9,
     "metadata": {},
     "output_type": "execute_result"
    }
   ],
   "source": [
    "U3_decomposed = Z2f(phi)*X2f(theta)*Z2f(-phi)\n",
    "\n",
    "U3_decomposed"
   ]
  },
  {
   "cell_type": "code",
   "execution_count": 10,
   "id": "d68cc32d",
   "metadata": {},
   "outputs": [
    {
     "data": {
      "text/plain": "Matrix([\n[0, 0],\n[0, 0]])",
      "text/latex": "$\\displaystyle \\left[\\begin{matrix}0 & 0\\\\0 & 0\\end{matrix}\\right]$"
     },
     "execution_count": 10,
     "metadata": {},
     "output_type": "execute_result"
    }
   ],
   "source": [
    "U3_decomposed - U3 "
   ]
  },
  {
   "cell_type": "markdown",
   "id": "e4b87f12",
   "metadata": {},
   "source": [
    "Qutrit case"
   ]
  },
  {
   "cell_type": "markdown",
   "id": "f5efb8b4",
   "metadata": {},
   "source": [
    "In 01 subspace"
   ]
  },
  {
   "cell_type": "code",
   "execution_count": 11,
   "id": "73af0882",
   "metadata": {},
   "outputs": [
    {
     "data": {
      "text/plain": "Matrix([\n[0, 1, 0],\n[1, 0, 0],\n[0, 0, 0]])",
      "text/latex": "$\\displaystyle \\left[\\begin{matrix}0 & 1 & 0\\\\1 & 0 & 0\\\\0 & 0 & 0\\end{matrix}\\right]$"
     },
     "execution_count": 11,
     "metadata": {},
     "output_type": "execute_result"
    }
   ],
   "source": [
    "gm01x = Matrix([\n",
    "    [0, 1, 0],\n",
    "    [1, 0, 0],\n",
    "    [0, 0, 0]\n",
    "])\n",
    "\n",
    "gm01x"
   ]
  },
  {
   "cell_type": "code",
   "execution_count": 12,
   "id": "d411c43f",
   "metadata": {},
   "outputs": [
    {
     "data": {
      "text/plain": "Matrix([\n[0, -I, 0],\n[I,  0, 0],\n[0,  0, 0]])",
      "text/latex": "$\\displaystyle \\left[\\begin{matrix}0 & - i & 0\\\\i & 0 & 0\\\\0 & 0 & 0\\end{matrix}\\right]$"
     },
     "execution_count": 12,
     "metadata": {},
     "output_type": "execute_result"
    }
   ],
   "source": [
    "gm01y = Matrix([\n",
    "    [0, -I, 0],\n",
    "    [I, 0, 0],\n",
    "    [0, 0, 0]\n",
    "])\n",
    "\n",
    "gm01y"
   ]
  },
  {
   "cell_type": "code",
   "execution_count": 13,
   "id": "26d5a5e6",
   "metadata": {},
   "outputs": [
    {
     "data": {
      "text/plain": "Matrix([\n[1,  0, 0],\n[0, -1, 0],\n[0,  0, 0]])",
      "text/latex": "$\\displaystyle \\left[\\begin{matrix}1 & 0 & 0\\\\0 & -1 & 0\\\\0 & 0 & 0\\end{matrix}\\right]$"
     },
     "execution_count": 13,
     "metadata": {},
     "output_type": "execute_result"
    }
   ],
   "source": [
    "gm01z = Matrix([\n",
    "    [1, 0, 0],\n",
    "    [0, -1, 0],\n",
    "    [0, 0, 0]\n",
    "])\n",
    "\n",
    "gm01z"
   ]
  },
  {
   "cell_type": "markdown",
   "id": "1c85848c",
   "metadata": {},
   "source": [
    "Theorem: Any matrix H that is a normalized linear combination of Gell-Mann subspace matrices, i.e. (1-3) or (4-7) satisfies\n",
    "\n",
    "\\begin{align}\n",
    "\\exp(-i(\\theta/2)H)= I - iH\\sin(\\theta/2) + H^2(\\cos(\\theta/2)-1)\n",
    "\\end{align}\n",
    "\n",
    "Corollary: Any Gell-Mann matrix satisfies the theorem above.\n",
    "\n",
    "https://arxiv.org/pdf/1508.00868.pdf"
   ]
  },
  {
   "cell_type": "code",
   "execution_count": 14,
   "id": "f4ab56ac",
   "metadata": {},
   "outputs": [
    {
     "data": {
      "text/plain": "Matrix([\n[         0, exp(-I*phi), 0],\n[exp(I*phi),           0, 0],\n[         0,           0, 0]])",
      "text/latex": "$\\displaystyle \\left[\\begin{matrix}0 & e^{- i \\phi} & 0\\\\e^{i \\phi} & 0 & 0\\\\0 & 0 & 0\\end{matrix}\\right]$"
     },
     "execution_count": 14,
     "metadata": {},
     "output_type": "execute_result"
    }
   ],
   "source": [
    "H3 = cos(phi)*gm01x + sin(phi)*gm01y\n",
    "\n",
    "for i in range(9):\n",
    "    H3[i] = simplify(H3[i])\n",
    "\n",
    "H3"
   ]
  },
  {
   "cell_type": "code",
   "execution_count": 15,
   "id": "4759547f",
   "metadata": {},
   "outputs": [
    {
     "data": {
      "text/plain": "Matrix([\n[              cos(theta/2), -I*exp(-I*phi)*sin(theta/2), 0],\n[-I*exp(I*phi)*sin(theta/2),                cos(theta/2), 0],\n[                         0,                           0, 1]])",
      "text/latex": "$\\displaystyle \\left[\\begin{matrix}\\cos{\\left(\\frac{\\theta}{2} \\right)} & - i e^{- i \\phi} \\sin{\\left(\\frac{\\theta}{2} \\right)} & 0\\\\- i e^{i \\phi} \\sin{\\left(\\frac{\\theta}{2} \\right)} & \\cos{\\left(\\frac{\\theta}{2} \\right)} & 0\\\\0 & 0 & 1\\end{matrix}\\right]$"
     },
     "execution_count": 15,
     "metadata": {},
     "output_type": "execute_result"
    }
   ],
   "source": [
    "eH3 = Id3 - I*H3*sin(theta/2) + H3**2*(cos(theta/2)-1)\n",
    "\n",
    "for i in range(9):\n",
    "    eH3[i] = simplify(eH3[i])\n",
    "    \n",
    "eH3"
   ]
  },
  {
   "cell_type": "code",
   "execution_count": 16,
   "id": "1c701f92",
   "metadata": {},
   "outputs": [
    {
     "data": {
      "text/plain": "Matrix([\n[cos(theta/2), -sin(theta/2), 0],\n[sin(theta/2),  cos(theta/2), 0],\n[           0,             0, 1]])",
      "text/latex": "$\\displaystyle \\left[\\begin{matrix}\\cos{\\left(\\frac{\\theta}{2} \\right)} & - \\sin{\\left(\\frac{\\theta}{2} \\right)} & 0\\\\\\sin{\\left(\\frac{\\theta}{2} \\right)} & \\cos{\\left(\\frac{\\theta}{2} \\right)} & 0\\\\0 & 0 & 1\\end{matrix}\\right]$"
     },
     "execution_count": 16,
     "metadata": {},
     "output_type": "execute_result"
    }
   ],
   "source": [
    "Y = Id3 - I*gm01y*sin(theta/2) + gm01y**2*(cos(theta/2)-1)\n",
    "\n",
    "for i in range(9):\n",
    "    Y[i] = simplify(Y[i])\n",
    "    \n",
    "Y"
   ]
  },
  {
   "cell_type": "code",
   "execution_count": 17,
   "id": "40cdd893",
   "metadata": {},
   "outputs": [
    {
     "data": {
      "text/plain": "Matrix([\n[   cos(theta/2), -I*sin(theta/2), 0],\n[-I*sin(theta/2),    cos(theta/2), 0],\n[              0,               0, 1]])",
      "text/latex": "$\\displaystyle \\left[\\begin{matrix}\\cos{\\left(\\frac{\\theta}{2} \\right)} & - i \\sin{\\left(\\frac{\\theta}{2} \\right)} & 0\\\\- i \\sin{\\left(\\frac{\\theta}{2} \\right)} & \\cos{\\left(\\frac{\\theta}{2} \\right)} & 0\\\\0 & 0 & 1\\end{matrix}\\right]$"
     },
     "execution_count": 17,
     "metadata": {},
     "output_type": "execute_result"
    }
   ],
   "source": [
    "X3 = Id3 - I*gm01x*sin(theta/2) + gm01x**2*(cos(theta/2)-1)\n",
    "\n",
    "for i in range(9):\n",
    "    X3[i] = simplify(X3[i])\n",
    "    \n",
    "X3"
   ]
  },
  {
   "cell_type": "code",
   "execution_count": 18,
   "id": "9da1b219",
   "metadata": {},
   "outputs": [
    {
     "data": {
      "text/plain": "Matrix([\n[exp(-I*phi/2),            0, 0],\n[            0, exp(I*phi/2), 0],\n[            0,            0, 1]])",
      "text/latex": "$\\displaystyle \\left[\\begin{matrix}e^{- \\frac{i \\phi}{2}} & 0 & 0\\\\0 & e^{\\frac{i \\phi}{2}} & 0\\\\0 & 0 & 1\\end{matrix}\\right]$"
     },
     "execution_count": 18,
     "metadata": {},
     "output_type": "execute_result"
    }
   ],
   "source": [
    "Z3 = Id3 - I*gm01z*sin(phi/2) + gm01z**2*(cos(phi/2)-1)\n",
    "\n",
    "for i in range(9):\n",
    "    Z3[i] = simplify(Z3[i])\n",
    "    \n",
    "Z3"
   ]
  },
  {
   "cell_type": "code",
   "execution_count": 36,
   "id": "631187b2",
   "metadata": {},
   "outputs": [],
   "source": [
    "def X3f(theta):\n",
    "    return Matrix([\n",
    "        [cos(theta/2), -I*sin(theta/2), 0],\n",
    "        [-I*sin(theta/2), cos(theta/2), 0],\n",
    "        [0, 0, 1]\n",
    "    ])\n",
    "\n",
    "def Z3f(phi):\n",
    "    return Matrix([\n",
    "        [exp(-I*phi/2), 0, 0],\n",
    "        [0, exp(I*phi/2), 0],\n",
    "        [0, 0, 1]\n",
    "    ])\n",
    "\n",
    "def weirdZ(phi):\n",
    "    return Matrix([\n",
    "        [exp(I*phi), 0, 0],\n",
    "        [0, 1, 0],\n",
    "        [0, 0, 1]\n",
    "    ])"
   ]
  },
  {
   "cell_type": "code",
   "execution_count": 39,
   "outputs": [
    {
     "data": {
      "text/plain": "0.0"
     },
     "execution_count": 39,
     "metadata": {},
     "output_type": "execute_result"
    }
   ],
   "source": [
    "np.angle(1)"
   ],
   "metadata": {
    "collapsed": false
   }
  },
  {
   "cell_type": "code",
   "execution_count": 38,
   "outputs": [
    {
     "data": {
      "text/plain": "Matrix([\n[              cos(theta/2), -I*exp(-I*phi)*sin(theta/2), 0],\n[-I*exp(I*phi)*sin(theta/2),                cos(theta/2), 0],\n[                         0,                           0, 1]])",
      "text/latex": "$\\displaystyle \\left[\\begin{matrix}\\cos{\\left(\\frac{\\theta}{2} \\right)} & - i e^{- i \\phi} \\sin{\\left(\\frac{\\theta}{2} \\right)} & 0\\\\- i e^{i \\phi} \\sin{\\left(\\frac{\\theta}{2} \\right)} & \\cos{\\left(\\frac{\\theta}{2} \\right)} & 0\\\\0 & 0 & 1\\end{matrix}\\right]$"
     },
     "execution_count": 38,
     "metadata": {},
     "output_type": "execute_result"
    }
   ],
   "source": [
    "weirdZ(-phi)*X3f(theta)*weirdZ(phi)"
   ],
   "metadata": {
    "collapsed": false
   }
  },
  {
   "cell_type": "code",
   "execution_count": 20,
   "id": "5db3e477",
   "metadata": {},
   "outputs": [
    {
     "data": {
      "text/plain": "Matrix([\n[0, 0, 0],\n[0, 0, 0],\n[0, 0, 0]])",
      "text/latex": "$\\displaystyle \\left[\\begin{matrix}0 & 0 & 0\\\\0 & 0 & 0\\\\0 & 0 & 0\\end{matrix}\\right]$"
     },
     "execution_count": 20,
     "metadata": {},
     "output_type": "execute_result"
    }
   ],
   "source": [
    "Z3f(-pi)*X3f(theta)*Z3f(pi) - X3f(-theta)"
   ]
  },
  {
   "cell_type": "code",
   "execution_count": 21,
   "id": "57e6056d",
   "metadata": {},
   "outputs": [
    {
     "data": {
      "text/plain": "Matrix([\n[              cos(theta/2), -I*exp(-I*phi)*sin(theta/2), 0],\n[-I*exp(I*phi)*sin(theta/2),                cos(theta/2), 0],\n[                         0,                           0, 1]])",
      "text/latex": "$\\displaystyle \\left[\\begin{matrix}\\cos{\\left(\\frac{\\theta}{2} \\right)} & - i e^{- i \\phi} \\sin{\\left(\\frac{\\theta}{2} \\right)} & 0\\\\- i e^{i \\phi} \\sin{\\left(\\frac{\\theta}{2} \\right)} & \\cos{\\left(\\frac{\\theta}{2} \\right)} & 0\\\\0 & 0 & 1\\end{matrix}\\right]$"
     },
     "execution_count": 21,
     "metadata": {},
     "output_type": "execute_result"
    }
   ],
   "source": [
    "SU3_decomposed = Z3f(phi)*X3f(theta)*Z3f(-phi)\n",
    "\n",
    "SU3_decomposed"
   ]
  },
  {
   "cell_type": "code",
   "execution_count": 22,
   "id": "80a573f5",
   "metadata": {},
   "outputs": [
    {
     "data": {
      "text/plain": "Matrix([\n[0, 0, 0],\n[0, 0, 0],\n[0, 0, 0]])",
      "text/latex": "$\\displaystyle \\left[\\begin{matrix}0 & 0 & 0\\\\0 & 0 & 0\\\\0 & 0 & 0\\end{matrix}\\right]$"
     },
     "execution_count": 22,
     "metadata": {},
     "output_type": "execute_result"
    }
   ],
   "source": [
    "SU3_decomposed - eH3"
   ]
  },
  {
   "cell_type": "markdown",
   "id": "29d91d16",
   "metadata": {},
   "source": [
    "which conclude the proof in 01 subspace (QED). For 12, the situation is more complicated. We must substitute the generator of Z rotation in 12 subspace by a matrix that is not a Gell-Mann matrix but can generate the rotation we want. If we were to apply the same technique as in the 01 subspace, we can see that"
   ]
  },
  {
   "cell_type": "code",
   "execution_count": 23,
   "id": "0a9c88a2",
   "metadata": {},
   "outputs": [
    {
     "data": {
      "text/plain": "Matrix([\n[0, 0, 0],\n[0, 0, 1],\n[0, 1, 0]])",
      "text/latex": "$\\displaystyle \\left[\\begin{matrix}0 & 0 & 0\\\\0 & 0 & 1\\\\0 & 1 & 0\\end{matrix}\\right]$"
     },
     "execution_count": 23,
     "metadata": {},
     "output_type": "execute_result"
    }
   ],
   "source": [
    "gm12x = Matrix([\n",
    "    [0, 0, 0],\n",
    "    [0, 0, 1],\n",
    "    [0, 1, 0]\n",
    "])\n",
    "\n",
    "gm12x"
   ]
  },
  {
   "cell_type": "code",
   "execution_count": 24,
   "id": "67d284d5",
   "metadata": {},
   "outputs": [
    {
     "data": {
      "text/plain": "Matrix([\n[0, 0,  0],\n[0, 0, -I],\n[0, I,  0]])",
      "text/latex": "$\\displaystyle \\left[\\begin{matrix}0 & 0 & 0\\\\0 & 0 & - i\\\\0 & i & 0\\end{matrix}\\right]$"
     },
     "execution_count": 24,
     "metadata": {},
     "output_type": "execute_result"
    }
   ],
   "source": [
    "gm12y = Matrix([\n",
    "    [0, 0, 0],\n",
    "    [0, 0, -I],\n",
    "    [0, I, 0]\n",
    "])\n",
    "\n",
    "gm12y"
   ]
  },
  {
   "cell_type": "code",
   "execution_count": 25,
   "id": "0ba2817e",
   "metadata": {},
   "outputs": [
    {
     "data": {
      "text/plain": "Matrix([\n[0, 0,  0],\n[0, 1,  0],\n[0, 0, -1]])",
      "text/latex": "$\\displaystyle \\left[\\begin{matrix}0 & 0 & 0\\\\0 & 1 & 0\\\\0 & 0 & -1\\end{matrix}\\right]$"
     },
     "execution_count": 25,
     "metadata": {},
     "output_type": "execute_result"
    }
   ],
   "source": [
    "gm12z = Matrix([\n",
    "    [0, 0, 0],\n",
    "    [0, 1, 0],\n",
    "    [0, 0, -1]\n",
    "])\n",
    "\n",
    "gm12z"
   ]
  },
  {
   "cell_type": "code",
   "execution_count": 26,
   "id": "4d5eb63f",
   "metadata": {
    "scrolled": true
   },
   "outputs": [
    {
     "data": {
      "text/plain": "Matrix([\n[1,               0,               0],\n[0,    cos(theta/2), -I*sin(theta/2)],\n[0, -I*sin(theta/2),    cos(theta/2)]])",
      "text/latex": "$\\displaystyle \\left[\\begin{matrix}1 & 0 & 0\\\\0 & \\cos{\\left(\\frac{\\theta}{2} \\right)} & - i \\sin{\\left(\\frac{\\theta}{2} \\right)}\\\\0 & - i \\sin{\\left(\\frac{\\theta}{2} \\right)} & \\cos{\\left(\\frac{\\theta}{2} \\right)}\\end{matrix}\\right]$"
     },
     "execution_count": 26,
     "metadata": {},
     "output_type": "execute_result"
    }
   ],
   "source": [
    "X3 = Id3 - I*gm12x*sin(theta/2) + gm12x**2*(cos(theta/2)-1)\n",
    "\n",
    "X3"
   ]
  },
  {
   "cell_type": "code",
   "execution_count": 27,
   "id": "ee6440f8",
   "metadata": {},
   "outputs": [],
   "source": [
    "def X3f(theta):\n",
    "    return Matrix([\n",
    "        [1, 0, 0],\n",
    "        [0, cos(theta/2), -I*sin(theta/2)],\n",
    "        [0, -I*sin(theta/2), cos(theta/2)]\n",
    "    ])"
   ]
  },
  {
   "cell_type": "code",
   "execution_count": 28,
   "id": "337c6b06",
   "metadata": {},
   "outputs": [
    {
     "data": {
      "text/plain": "Matrix([\n[1,             0,            0],\n[0, exp(-I*phi/2),            0],\n[0,             0, exp(I*phi/2)]])",
      "text/latex": "$\\displaystyle \\left[\\begin{matrix}1 & 0 & 0\\\\0 & e^{- \\frac{i \\phi}{2}} & 0\\\\0 & 0 & e^{\\frac{i \\phi}{2}}\\end{matrix}\\right]$"
     },
     "execution_count": 28,
     "metadata": {},
     "output_type": "execute_result"
    }
   ],
   "source": [
    "Z3 = Id3 - I*gm12z*sin(phi/2) + gm12z**2*(cos(phi/2)-1)\n",
    "\n",
    "for i in range(9):\n",
    "    Z3[i] = simplify(Z3[i])\n",
    "\n",
    "Z3"
   ]
  },
  {
   "cell_type": "code",
   "execution_count": 29,
   "id": "9766b47b",
   "metadata": {},
   "outputs": [],
   "source": [
    "def Z3f(phi):\n",
    "    return Matrix([\n",
    "        [1, 0, 0],\n",
    "        [0, exp(-I*phi/2), 0],\n",
    "        [0, 0, exp(I*phi/2)]\n",
    "    ])"
   ]
  },
  {
   "cell_type": "code",
   "execution_count": 30,
   "id": "994078a6",
   "metadata": {},
   "outputs": [
    {
     "data": {
      "text/plain": "Matrix([\n[0,          0,           0],\n[0,          0, exp(-I*phi)],\n[0, exp(I*phi),           0]])",
      "text/latex": "$\\displaystyle \\left[\\begin{matrix}0 & 0 & 0\\\\0 & 0 & e^{- i \\phi}\\\\0 & e^{i \\phi} & 0\\end{matrix}\\right]$"
     },
     "execution_count": 30,
     "metadata": {},
     "output_type": "execute_result"
    }
   ],
   "source": [
    "H3 = cos(phi)*gm12x + sin(phi)*gm12y\n",
    "\n",
    "for i in range(9):\n",
    "    H3[i] = simplify(H3[i])\n",
    "H3"
   ]
  },
  {
   "cell_type": "markdown",
   "id": "fe9e7496",
   "metadata": {},
   "source": [
    "Because this matrix is a linear combination of Gell-Mann matrices in the 12 subspace, the theorem holds."
   ]
  },
  {
   "cell_type": "code",
   "execution_count": 31,
   "id": "e0cce86c",
   "metadata": {},
   "outputs": [
    {
     "data": {
      "text/plain": "Matrix([\n[1,                          0,                           0],\n[0,               cos(theta/2), -I*exp(-I*phi)*sin(theta/2)],\n[0, -I*exp(I*phi)*sin(theta/2),                cos(theta/2)]])",
      "text/latex": "$\\displaystyle \\left[\\begin{matrix}1 & 0 & 0\\\\0 & \\cos{\\left(\\frac{\\theta}{2} \\right)} & - i e^{- i \\phi} \\sin{\\left(\\frac{\\theta}{2} \\right)}\\\\0 & - i e^{i \\phi} \\sin{\\left(\\frac{\\theta}{2} \\right)} & \\cos{\\left(\\frac{\\theta}{2} \\right)}\\end{matrix}\\right]$"
     },
     "execution_count": 31,
     "metadata": {},
     "output_type": "execute_result"
    }
   ],
   "source": [
    "eH3 = Id3 - I*H3*sin(theta/2) + H3**2*(cos(theta/2)-1)\n",
    "\n",
    "for i in range(9):\n",
    "    eH3[i] = simplify(eH3[i])\n",
    "\n",
    "eH3"
   ]
  },
  {
   "cell_type": "code",
   "execution_count": 32,
   "id": "4bb5a3e5",
   "metadata": {},
   "outputs": [
    {
     "data": {
      "text/plain": "Matrix([\n[0, 0, 0],\n[0, 0, 0],\n[0, 0, 0]])",
      "text/latex": "$\\displaystyle \\left[\\begin{matrix}0 & 0 & 0\\\\0 & 0 & 0\\\\0 & 0 & 0\\end{matrix}\\right]$"
     },
     "execution_count": 32,
     "metadata": {},
     "output_type": "execute_result"
    }
   ],
   "source": [
    "eH3 - Z3f(phi)*X3f(theta)*Z3f(-phi)"
   ]
  }
 ],
 "metadata": {
  "kernelspec": {
   "display_name": "Python 3 (ipykernel)",
   "language": "python",
   "name": "python3"
  },
  "language_info": {
   "codemirror_mode": {
    "name": "ipython",
    "version": 3
   },
   "file_extension": ".py",
   "mimetype": "text/x-python",
   "name": "python",
   "nbconvert_exporter": "python",
   "pygments_lexer": "ipython3",
   "version": "3.8.2"
  }
 },
 "nbformat": 4,
 "nbformat_minor": 5
}
