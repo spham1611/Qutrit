{
 "cells": [
  {
   "cell_type": "code",
   "execution_count": 2,
   "metadata": {
    "collapsed": true
   },
   "outputs": [],
   "source": [
    "import numpy as np\n",
    "from src.quantumcircuit.qc_elementary_matrices import rz01, rx01\n",
    "from src.decomposition.transpilation import SU3_matrices"
   ]
  },
  {
   "cell_type": "code",
   "execution_count": 8,
   "outputs": [],
   "source": [
    "sigma2 = np.array([[0, 1, 0], [0, 0, 1], [1, 0, 0]])\n",
    "sigma3 = np.array([[0, 0, 1], [1, 0, 0], [0, 1, 0]])\n",
    "sigma4 = np.array([[0, 1, 0], [1, 0, 0], [0, 0, 1]])\n",
    "sigma5 = np.array([[1, 0, 0], [0, 0, 1], [0, 1, 0]])\n",
    "sigma6 = np.array([[0, 0, 1], [0, 1, 0], [1, 0, 0]])"
   ],
   "metadata": {
    "collapsed": false
   }
  },
  {
   "cell_type": "code",
   "execution_count": 9,
   "outputs": [
    {
     "name": "stdout",
     "output_type": "stream",
     "text": [
      "Reconstructing ...\n",
      "[[1.+0.j 0.+0.j 0.+0.j]\n",
      " [0.+0.j 0.+0.j 1.-0.j]\n",
      " [0.+0.j 1.-0.j 0.+0.j]]\n",
      "[[0 1 0]\n",
      " [0 0 1]\n",
      " [1 0 0]]\n"
     ]
    }
   ],
   "source": [
    "su3_sigma2 = SU3_matrices(su3=sigma2, qutrit_index=0, n_qutrits=1)\n",
    "print(\"Reconstructing ...\")\n",
    "print(f\"{su3_sigma2.reconstruct().round()}\\n{sigma2}\")"
   ],
   "metadata": {
    "collapsed": false
   }
  },
  {
   "cell_type": "code",
   "execution_count": 22,
   "outputs": [
    {
     "data": {
      "text/plain": "U_diagonal:\n[[1.000000e+00+0.j 0.000000e+00+0.j 0.000000e+00+0.j]\n [0.000000e+00+0.j 6.123234e-17+1.j 0.000000e+00+0.j]\n [0.000000e+00+0.j 0.000000e+00+0.j 6.123234e-17+1.j]]\nR_theta1:\n[[1.+0.j 0.+0.j 0.+0.j]\n [0.+0.j 1.+0.j 0.+0.j]\n [0.+0.j 0.+0.j 1.+0.j]]\nR_theta2:\n[[1.000000e+00+0.j 0.000000e+00+0.j 0.000000e+00+0.j]\n [0.000000e+00+0.j 6.123234e-17+0.j 0.000000e+00-1.j]\n [0.000000e+00+0.j 0.000000e+00-1.j 6.123234e-17+0.j]]\nR_theta3:\n[[1.+0.j 0.+0.j 0.+0.j]\n [0.+0.j 1.+0.j 0.+0.j]\n [0.+0.j 0.+0.j 1.+0.j]]"
     },
     "execution_count": 22,
     "metadata": {},
     "output_type": "execute_result"
    }
   ],
   "source": [
    "su3_sigma2"
   ],
   "metadata": {
    "collapsed": false
   }
  },
  {
   "cell_type": "code",
   "execution_count": 10,
   "outputs": [
    {
     "name": "stdout",
     "output_type": "stream",
     "text": [
      "Reconstructing ...\n",
      "[[1.+0.j 0.+0.j 0.+0.j]\n",
      " [0.+0.j 0.+0.j 1.-0.j]\n",
      " [0.+0.j 1.-0.j 0.+0.j]]\n",
      "[[0 0 1]\n",
      " [1 0 0]\n",
      " [0 1 0]]\n"
     ]
    }
   ],
   "source": [
    "su3_sigma3 = SU3_matrices(su3=sigma3, qutrit_index=0, n_qutrits=1)\n",
    "print(\"Reconstructing ...\")\n",
    "print(f\"{su3_sigma3.reconstruct().round()}\\n{sigma3}\")"
   ],
   "metadata": {
    "collapsed": false
   }
  },
  {
   "cell_type": "code",
   "execution_count": 11,
   "outputs": [
    {
     "data": {
      "text/plain": "array([[ 0.+0.j,  1.-0.j,  0.+0.j],\n       [-1.-0.j,  0.+0.j,  0.+0.j],\n       [ 0.+0.j,  0.+0.j,  1.+0.j]])"
     },
     "execution_count": 11,
     "metadata": {},
     "output_type": "execute_result"
    }
   ],
   "source": [
    "x01 = np.array([[0, 1.0, 0], [1.0, 0, 0], [0, 0, 1.0]])\n",
    "su_x = SU3_matrices(x01, 0, 1)\n",
    "su_x.reconstruct().round()"
   ],
   "metadata": {
    "collapsed": false
   }
  },
  {
   "cell_type": "code",
   "execution_count": 12,
   "outputs": [
    {
     "data": {
      "text/plain": "array([[1.+0.j, 0.+0.j, 0.+0.j],\n       [0.+0.j, 1.+0.j, 0.+0.j],\n       [0.+0.j, 0.+0.j, 1.+0.j]])"
     },
     "execution_count": 12,
     "metadata": {},
     "output_type": "execute_result"
    }
   ],
   "source": [
    "su_x.unitary_diagonal()"
   ],
   "metadata": {
    "collapsed": false
   }
  },
  {
   "cell_type": "code",
   "execution_count": 13,
   "outputs": [
    {
     "data": {
      "text/plain": "array([[ 0.+0.j,  1.-0.j,  0.+0.j],\n       [-1.-0.j,  0.+0.j,  0.+0.j],\n       [ 0.+0.j,  0.+0.j,  1.+0.j]])"
     },
     "execution_count": 13,
     "metadata": {},
     "output_type": "execute_result"
    }
   ],
   "source": [
    "su_x.rotation_theta3_01().round()"
   ],
   "metadata": {
    "collapsed": false
   }
  },
  {
   "cell_type": "code",
   "execution_count": 14,
   "outputs": [
    {
     "data": {
      "text/plain": "array([[1.+0.j, 0.+0.j, 0.+0.j],\n       [0.+0.j, 1.+0.j, 0.+0.j],\n       [0.+0.j, 0.+0.j, 1.+0.j]])"
     },
     "execution_count": 14,
     "metadata": {},
     "output_type": "execute_result"
    }
   ],
   "source": [
    "su_x.rotation_theta2_12()"
   ],
   "metadata": {
    "collapsed": false
   }
  },
  {
   "cell_type": "code",
   "execution_count": 15,
   "outputs": [
    {
     "data": {
      "text/plain": "array([[1.+0.j, 0.+0.j, 0.+0.j],\n       [0.+0.j, 1.+0.j, 0.+0.j],\n       [0.+0.j, 0.+0.j, 1.+0.j]])"
     },
     "execution_count": 15,
     "metadata": {},
     "output_type": "execute_result"
    }
   ],
   "source": [
    "su_x.rotation_theta1_01().round()"
   ],
   "metadata": {
    "collapsed": false
   }
  },
  {
   "cell_type": "code",
   "execution_count": 16,
   "outputs": [
    {
     "data": {
      "text/plain": "-1.5707963267948966"
     },
     "execution_count": 16,
     "metadata": {},
     "output_type": "execute_result"
    }
   ],
   "source": [
    "phi3 = su_x.parameters.__getattribute__(\"phi3\")\n",
    "\n",
    "phi3"
   ],
   "metadata": {
    "collapsed": false
   }
  },
  {
   "cell_type": "code",
   "execution_count": 21,
   "outputs": [
    {
     "data": {
      "text/plain": "3.141592653589793"
     },
     "execution_count": 21,
     "metadata": {},
     "output_type": "execute_result"
    }
   ],
   "source": [
    "theta3 = su_x.parameters.__getattribute__(\"theta3\")\n",
    "\n",
    "theta3"
   ],
   "metadata": {
    "collapsed": false
   }
  },
  {
   "cell_type": "code",
   "execution_count": 18,
   "outputs": [
    {
     "data": {
      "text/plain": "array([[0.+0.j, 0.-1.j, 0.+0.j],\n       [0.-1.j, 0.+0.j, 0.+0.j],\n       [0.+0.j, 0.+0.j, 1.+0.j]])"
     },
     "execution_count": 18,
     "metadata": {},
     "output_type": "execute_result"
    }
   ],
   "source": [
    "rx01(theta3).round()"
   ],
   "metadata": {
    "collapsed": false
   }
  },
  {
   "cell_type": "code",
   "execution_count": 19,
   "outputs": [
    {
     "data": {
      "text/plain": "array([[0.-1.j, 0.+0.j, 0.+0.j],\n       [0.+0.j, 1.+0.j, 0.+0.j],\n       [0.+0.j, 0.+0.j, 1.+0.j]])"
     },
     "execution_count": 19,
     "metadata": {},
     "output_type": "execute_result"
    }
   ],
   "source": [
    "rz01(phi3).round()"
   ],
   "metadata": {
    "collapsed": false
   }
  },
  {
   "cell_type": "code",
   "execution_count": 11,
   "outputs": [
    {
     "data": {
      "text/plain": "array([[0.+1.j, 0.+0.j, 0.+0.j],\n       [0.+0.j, 1.+0.j, 0.+0.j],\n       [0.+0.j, 0.+0.j, 0.-1.j]])"
     },
     "execution_count": 11,
     "metadata": {},
     "output_type": "execute_result"
    }
   ],
   "source": [
    "rz01(-phi3).round()"
   ],
   "metadata": {
    "collapsed": false
   }
  },
  {
   "cell_type": "code",
   "execution_count": 22,
   "outputs": [
    {
     "data": {
      "text/plain": "array([[ 6.123234e-17+0.000000e+00j, -1.000000e+00-6.123234e-17j,\n         0.000000e+00+0.000000e+00j],\n       [ 1.000000e+00-6.123234e-17j,  6.123234e-17+0.000000e+00j,\n         0.000000e+00+0.000000e+00j],\n       [ 0.000000e+00+0.000000e+00j,  0.000000e+00+0.000000e+00j,\n         1.000000e+00+0.000000e+00j]])"
     },
     "execution_count": 22,
     "metadata": {},
     "output_type": "execute_result"
    }
   ],
   "source": [],
   "metadata": {
    "collapsed": false
   }
  },
  {
   "cell_type": "code",
   "execution_count": null,
   "outputs": [],
   "source": [],
   "metadata": {
    "collapsed": false
   }
  }
 ],
 "metadata": {
  "kernelspec": {
   "display_name": "Python 3",
   "language": "python",
   "name": "python3"
  },
  "language_info": {
   "codemirror_mode": {
    "name": "ipython",
    "version": 2
   },
   "file_extension": ".py",
   "mimetype": "text/x-python",
   "name": "python",
   "nbconvert_exporter": "python",
   "pygments_lexer": "ipython2",
   "version": "2.7.6"
  }
 },
 "nbformat": 4,
 "nbformat_minor": 0
}
