{
 "cells": [
  {
   "cell_type": "markdown",
   "source": [
    "# Introduction to Qutritium - Qutrit Processing Software in Python\n",
    "\n",
    "Author: Son Pham (reachphamhson@gmail.com), Github: https://github.com/spham1611"
   ],
   "metadata": {
    "collapsed": false
   }
  },
  {
   "cell_type": "code",
   "execution_count": 1,
   "metadata": {
    "collapsed": true
   },
   "outputs": [],
   "source": [
    "from src.backend.backend_ibm import CustomProvider"
   ]
  },
  {
   "cell_type": "code",
   "execution_count": 3,
   "outputs": [],
   "source": [
    "from src.calibration.transmission_reflection import TR01\n",
    "from src.pulse import Pulse01"
   ],
   "metadata": {
    "collapsed": false
   }
  },
  {
   "cell_type": "code",
   "execution_count": 4,
   "outputs": [],
   "source": [
    "custom_provider = CustomProvider()\n",
    "tr_01 = TR01(custom_provider=custom_provider)\n",
    "tr_01.prepare_circuit()\n",
    "tr_01.run_monitor()\n",
    "# tr_01.modify_pulse_model(\"cpkta486q5h0008bmwpg\")"
   ],
   "metadata": {
    "collapsed": false
   }
  },
  {
   "cell_type": "code",
   "execution_count": 5,
   "outputs": [
    {
     "data": {
      "text/plain": "4721916632.577951"
     },
     "execution_count": 5,
     "metadata": {},
     "output_type": "execute_result"
    }
   ],
   "source": [
    "tr_01.pulse_model.frequency"
   ],
   "metadata": {
    "collapsed": false
   }
  },
  {
   "cell_type": "code",
   "execution_count": null,
   "outputs": [],
   "source": [
    "from src.calibration.transmission_reflection import TR12\n",
    "from src.pulse import Pulse12"
   ],
   "metadata": {
    "collapsed": false
   }
  },
  {
   "cell_type": "code",
   "execution_count": null,
   "outputs": [],
   "source": [
    "pulse12 = Pulse12()"
   ],
   "metadata": {
    "collapsed": false
   }
  }
 ],
 "metadata": {
  "kernelspec": {
   "display_name": "Python 3",
   "language": "python",
   "name": "python3"
  },
  "language_info": {
   "codemirror_mode": {
    "name": "ipython",
    "version": 2
   },
   "file_extension": ".py",
   "mimetype": "text/x-python",
   "name": "python",
   "nbconvert_exporter": "python",
   "pygments_lexer": "ipython2",
   "version": "2.7.6"
  }
 },
 "nbformat": 4,
 "nbformat_minor": 0
}
