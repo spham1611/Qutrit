{
 "cells": [
  {
   "cell_type": "code",
   "execution_count": 1,
   "metadata": {
    "collapsed": true
   },
   "outputs": [
    {
     "name": "stdout",
     "output_type": "stream",
     "text": [
      "C:\\Users\\reach\\Coding\\qutritium\n"
     ]
    }
   ],
   "source": [
    "import os\n",
    "\n",
    "# get the current working directory\n",
    "current_dir = os.getcwd()\n",
    "\n",
    "# navigate to the parent directory\n",
    "os.chdir(os.path.abspath(os.path.join(current_dir, os.pardir)))\n",
    "print(os.getcwd())"
   ]
  },
  {
   "cell_type": "code",
   "execution_count": 9,
   "outputs": [],
   "source": [
    "from src.backend_ibm import BackEndDict"
   ],
   "metadata": {
    "collapsed": false
   }
  },
  {
   "cell_type": "code",
   "execution_count": 10,
   "outputs": [
    {
     "name": "stdout",
     "output_type": "stream",
     "text": [
      "Backend name:                 # Qubit used:                           \n",
      "ibmq_qasm_simulator           0                                       \n",
      "ibm_lagos                     0                                       \n",
      "ibm_perth                     0                                       \n",
      "ibmq_jakarta                  0                                       \n",
      "simulator_mps                 0                                       \n",
      "simulator_statevector         0                                       \n",
      "simulator_stabilizer          0                                       \n",
      "ibmq_manila                   0                                       \n",
      "ibmq_quito                    0                                       \n",
      "ibmq_lima                     0                                       \n",
      "ibmq_belem                    0                                       \n",
      "simulator_extended_stabilizer 0                                       \n",
      "ibm_nairobi                   6                                       \n"
     ]
    }
   ],
   "source": [
    "backend = BackEndDict()\n",
    "backend.show()"
   ],
   "metadata": {
    "collapsed": false
   }
  },
  {
   "cell_type": "code",
   "execution_count": 11,
   "outputs": [
    {
     "data": {
      "text/plain": "(<IBMBackend('ibm_nairobi')>, 6)"
     },
     "execution_count": 11,
     "metadata": {},
     "output_type": "execute_result"
    }
   ],
   "source": [
    "backend['ibm_nairobi']"
   ],
   "metadata": {
    "collapsed": false
   }
  },
  {
   "cell_type": "code",
   "execution_count": 16,
   "outputs": [
    {
     "name": "stdout",
     "output_type": "stream",
     "text": [
      "-340435676.0163406\n",
      "5128681839.39925\n"
     ]
    }
   ],
   "source": [
    "ibm_backend, QUBIT_VAL = backend.default_backend()\n",
    "ANHAR = ibm_backend.qubit_properties(QUBIT_VAL).__getattribute__('anharmonicity')\n",
    "FREQ01 = ibm_backend.qubit_properties(QUBIT_VAL).frequency\n",
    "print(ANHAR)\n",
    "print(FREQ01)"
   ],
   "metadata": {
    "collapsed": false
   }
  },
  {
   "cell_type": "code",
   "execution_count": null,
   "outputs": [],
   "source": [],
   "metadata": {
    "collapsed": false
   }
  }
 ],
 "metadata": {
  "kernelspec": {
   "display_name": "Python 3",
   "language": "python",
   "name": "python3"
  },
  "language_info": {
   "codemirror_mode": {
    "name": "ipython",
    "version": 2
   },
   "file_extension": ".py",
   "mimetype": "text/x-python",
   "name": "python",
   "nbconvert_exporter": "python",
   "pygments_lexer": "ipython2",
   "version": "2.7.6"
  }
 },
 "nbformat": 4,
 "nbformat_minor": 0
}
